{
 "cells": [
  {
   "cell_type": "code",
   "execution_count": 1,
   "metadata": {},
   "outputs": [],
   "source": [
    "from bs4 import BeautifulSoup\n",
    "import re\n",
    "import requests\n",
    "import pandas as pd\n",
    "headers = {'User-Agent': 'Mozilla/5.0 (Macintosh; Intel Mac OS X 10_15_7) AppleWebKit/605.1.15 (KHTML, like Gecko) Version/14.1 Safari/605.1.15Mozilla/5.0 (Macintosh; Intel Mac OS X 10_15_7) AppleWebKit/605.1.15 (KHTML, like Gecko) Version/14.1 Safari/605.1.15'\n",
    "            }\n",
    "\n",
    "response = requests.get('https://www.allrecipes.com/search/results/?search=vanilla+cake', headers=headers)\n",
    "text = BeautifulSoup(response.text, 'html.parser')"
   ]
  },
  {
   "cell_type": "code",
   "execution_count": 5,
   "metadata": {},
   "outputs": [
    {
     "data": {
      "text/plain": [
       "24"
      ]
     },
     "execution_count": 5,
     "metadata": {},
     "output_type": "execute_result"
    }
   ],
   "source": [
    "len(text.find_all('div', attrs={'class': 'component card card__recipe card__facetedSearchResult'}))\n",
    "\n"
   ]
  },
  {
   "cell_type": "code",
   "execution_count": null,
   "metadata": {},
   "outputs": [],
   "source": [
    "# from bs4 import BeautifulSoup\n",
    "# import re\n",
    "# import requests\n",
    "# import pandas as pd\n",
    "# headers = {'User-Agent': 'Mozilla/5.0 (Macintosh; Intel Mac OS X 10_15_7) AppleWebKit/605.1.15 (KHTML, like Gecko) Version/14.1 Safari/605.1.15Mozilla/5.0 (Macintosh; Intel Mac OS X 10_15_7) AppleWebKit/605.1.15 (KHTML, like Gecko) Version/14.1 Safari/605.1.15'\n",
    "#             }\n",
    "\n",
    "# #funct to get the urls to each recipe in the search\n",
    "# def geturlsFN(response ,text):\n",
    "#     \"\"\"\"\n",
    "#     scrapes urls for recipes that result when searching for a recipe of FN\n",
    "#     \"\"\"\n",
    "#     reciperesult = text.find_all('section', attrs={'class': 'o-RecipeResult o-ResultCard'})\n",
    "#     recipe_urls = ['http:'+ tag.find('a').get('href') for tag in reciperesult]\n",
    "#     return recipe_urls\n",
    "# def getratingsFN(response ,text):\n",
    "#     \"\"\"\"\n",
    "#     scrapes ratings for recipes that result when searching for a recipe of FN\n",
    "#     \"\"\"\n",
    "#     s=str(text.find_all('div', attrs={'class': 'o-ResultCard__m-MediaBlock m-MediaBlock'})).split('<div class=\"o-ResultCard__m-MediaBlock m-MediaBlock\">')[1:]\n",
    "#     ratings=[(str(re.findall('title=\\\".*? of 5 stars',x))[9:-13]) for x in s]\n",
    "#     return ratings\n",
    "# def getnumreviewFN(response ,text):\n",
    "#     \"\"\"\"\n",
    "#     scrapes #reviews for recipes that result when searching for a recipe of FN\n",
    "#     \"\"\"\n",
    "#     s=str(text.find_all('div', attrs={'class': 'o-ResultCard__m-MediaBlock m-MediaBlock'})).split('<div class=\"o-ResultCard__m-MediaBlock m-MediaBlock\">')[1:]\n",
    "#     numratings=[(str(re.findall('gig-rating-ratingsum\\\"\\>.*? Review',x))[24:-9]) for x in s]\n",
    "#     return numratings\n",
    "\n",
    "# #obtain urls ratings and #ratings for each page\n",
    "\n",
    "# def scraperecipeurls(searchurl):\n",
    "#     #gets the urls that result from the search and the num of\n",
    "#     #reviews and avg num of stars per recipe\n",
    "#     firstpage=f'{searchurl}{1}/CUSTOM_FACET:RECIPE_FACET'\n",
    "#     print(firstpage)\n",
    "#     response = requests.get(firstpage, headers=headers)\n",
    "#     text = BeautifulSoup(response.text, 'html.parser')\n",
    "\n",
    "#     numberofpages=int(re.sub(r\"[\\n\\t\\s]*\", \"\", text.find_all('a', attrs={'class': 'o-Pagination__a-Button'})[-2].string) )\n",
    "#     allurls=[]\n",
    "#     allratings=[]\n",
    "#     allratingnums=[]\n",
    "#     for i in range(numberofpages):\n",
    "#         response = requests.get(f'{searchurl}{i+1}/CUSTOM_FACET:RECIPE_FACET', headers=headers)\n",
    "#         text = BeautifulSoup(response.text, 'html.parser')\n",
    "#         if response.status_code !=200:\n",
    "#             print(f\"status trouble {i+1}\")\n",
    "#         pageurls=geturlsFN(response ,text)\n",
    "#         allurls=allurls+pageurls\n",
    "#         pageratings=getratingsFN(response ,text)\n",
    "#         allratings=allratings+pageratings\n",
    "#         pageratingnums=getnumreviewFN(response ,text)\n",
    "#         allratingnums=allratingnums+pageratingnums\n",
    "#     return [allurls,allratings,allratingnums]\n",
    "\n",
    "\n",
    "\n",
    "# def getrecipedataFN(urls):\n",
    "#     \"\"\"\"\n",
    "#     funct that takes in a list of urls of recipes and extracts\n",
    "#     the title of the recipe, the ingredients of the cake portion and the number of servings it yields\n",
    "#     \"\"\"\n",
    "#     title=[]\n",
    "#     servings=[]\n",
    "#     ingredients=[]\n",
    "#     for i in range(len(urls)):\n",
    "#         response = requests.get(urls[i], headers=headers)\n",
    "#         text = BeautifulSoup(response.text, 'html.parser')\n",
    "#         title.append(text.find_all('span', attrs={'class': 'o-AssetTitle__a-HeadlineText'})[0].string)\n",
    "#         try:\n",
    "#             servings.append(str(text.find_all('span',text=re.compile('Yield:'))[0].find_next_siblings())[43:-8])\n",
    "#         except:\n",
    "#             servings.append('NA')\n",
    "#         if text.find_all('h6',attrs={'class':'o-Ingredients__a-SubHeadline'})==[]:\n",
    "#             ingredients.append([str(re.findall('value=\\\".*?\\\"',str(x)))[9:-3] for x in text.find_all('input',attrs={'class':'o-Ingredients__a-Ingredient--Checkbox'})[1:]])\n",
    "#         else:\n",
    "#             s=str(text.find_all('div',attrs={'class':'o-Ingredients__m-Body'})).split(\"Frosting:\")[0]\n",
    "#             ingredients.append([x[7:-1] for x in re.findall('value=\\\".*?\\\"',s)][1:])\n",
    "#     return [title,servings,ingredients]\n",
    "\n",
    "\n",
    "# #get attributes for each recipe- cost and calories will be calculated based on ingreidnts later\n",
    "# searchurl=['https://www.foodnetwork.com/search/lemon-cake-/p/']#'https://www.foodnetwork.com/search/white-cake-/p/','https://www.foodnetwork.com/search/yellow-cake-/p/','https://www.foodnetwork.com/search/angel-food-cake-/p/']#'https://www.foodnetwork.com/search/vanilla-cake-/p/']\n",
    "\n",
    "# alldata=[]\n",
    "# for i in range(len(searchurl)):\n",
    "\n",
    "#     [allurls,allratings,allratingnums]=scraperecipeurls(searchurl[i])\n",
    "#     [title,servings,ingredients]=getrecipedataFN(allurls)\n",
    "#     alldata=alldata+list(zip(title,servings,ingredients,allratings,allratingnums))\n",
    "\n",
    "# recipedf=pd.DataFrame(alldata,columns =['Recipe_title','servings','ingredients','stars','Num_of_reviews'])\n",
    "# recipedf.to_csv('recipes2.csv')\n",
    "# print('DONE')\n",
    "\n"
   ]
  }
 ],
 "metadata": {
  "kernelspec": {
   "display_name": "Python 3",
   "language": "python",
   "name": "python3"
  },
  "language_info": {
   "codemirror_mode": {
    "name": "ipython",
    "version": 3
   },
   "file_extension": ".py",
   "mimetype": "text/x-python",
   "name": "python",
   "nbconvert_exporter": "python",
   "pygments_lexer": "ipython3",
   "version": "3.8.5"
  }
 },
 "nbformat": 4,
 "nbformat_minor": 4
}
