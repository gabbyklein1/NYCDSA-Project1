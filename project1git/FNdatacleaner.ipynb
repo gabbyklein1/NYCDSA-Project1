{
 "cells": [
  {
   "cell_type": "code",
   "execution_count": 1,
   "metadata": {},
   "outputs": [],
   "source": [
    "import pandas as pd \n",
    "import re\n",
    "import numpy as np"
   ]
  },
  {
   "cell_type": "code",
   "execution_count": 2,
   "metadata": {},
   "outputs": [],
   "source": [
    "\n",
    "df1=pd.read_csv(\"recipes.csv\") \n",
    "df2=pd.read_csv(\"recipes1.csv\") \n",
    "df3=pd.read_csv(\"recipes2.csv\") \n",
    "df4=pd.read_csv(\"recipes3.csv\")"
   ]
  },
  {
   "cell_type": "code",
   "execution_count": 3,
   "metadata": {},
   "outputs": [
    {
     "name": "stdout",
     "output_type": "stream",
     "text": [
      "(2007, 6)\n",
      "(1198, 6)\n",
      "(699, 6)\n",
      "(276, 6)\n",
      "(4180, 6)\n",
      "(2838, 5)\n"
     ]
    },
    {
     "data": {
      "text/plain": [
       "pandas.core.frame.DataFrame"
      ]
     },
     "execution_count": 3,
     "metadata": {},
     "output_type": "execute_result"
    }
   ],
   "source": [
    "#combines the data from two scrapped csvs (the webscrapping was done in two shifts) \n",
    "#drops dulicate rows where a recipe appeared in >1 search\n",
    "\n",
    "\n",
    "print(df1.shape)\n",
    "print(df2.shape)\n",
    "print(df3.shape)\n",
    "print(df4.shape)\n",
    "recipedf= pd.concat([df1,df2,df3,df4],ignore_index=True)\n",
    "print(recipedf.shape)\n",
    "recipedf=recipedf.drop('Unnamed: 0',axis=1)\n",
    "recipedf=recipedf.drop_duplicates()\n",
    "print(recipedf.shape)\n",
    "type(recipedf)"
   ]
  },
  {
   "cell_type": "code",
   "execution_count": 4,
   "metadata": {},
   "outputs": [
    {
     "data": {
      "text/plain": [
       "pandas.core.frame.DataFrame"
      ]
     },
     "execution_count": 4,
     "metadata": {},
     "output_type": "execute_result"
    }
   ],
   "source": [
    "#gets rid of recipe titles that are irrelevant- must be a cake and be vanilla/white/yellow\n",
    "\n",
    "\n",
    "recipedf=recipedf[recipedf[\"Recipe_title\"].str.contains(\"Cake|cake\")& recipedf[\"Recipe_title\"].str.contains(\"Vanilla|Yellow|White|Angel|Rainbow|Almond|Lemon|Confetti|Sprinkles|Coconut|Funfetti|Sour|Pound\")]\n",
    "#recipedf[recipedf[\"Recipe_title\"].str.contains(\"A|B\")==True]\n",
    "recipedf.shape\n",
    "recipedf.reset_index\n",
    "type(recipedf)"
   ]
  },
  {
   "cell_type": "code",
   "execution_count": 5,
   "metadata": {},
   "outputs": [
    {
     "name": "stdout",
     "output_type": "stream",
     "text": [
      "12\n"
     ]
    },
    {
     "data": {
      "text/plain": [
       "pandas.core.frame.DataFrame"
      ]
     },
     "execution_count": 5,
     "metadata": {},
     "output_type": "execute_result"
    }
   ],
   "source": [
    "recipedf.columns\n",
    "type(recipedf)\n",
    "servings_per_tin={9:12,8:10,6:8,10:14}\n",
    "print(servings_per_tin.get(int(re.search('\\((.*)-inch','(9-inch)').group(1))))\n",
    "type(recipedf)"
   ]
  },
  {
   "cell_type": "code",
   "execution_count": 6,
   "metadata": {},
   "outputs": [],
   "source": [
    "def cleanservings(servings):\n",
    "    \n",
    "# \"\"\"\"\n",
    "# built to translate different strings regarding serving sizes into floats. references \n",
    "# https://larkcakeshop.com/wp-content/uploads/2018/05/CakeServeGuide2.pdf when deciding how much \n",
    "# a x-inch cake serves\n",
    "# \"\"\"\"\n",
    "    regex = re.compile('\\(.+-inch\\)')\n",
    "    regex1 = re.compile('.+-inch') \n",
    "    servings=str(servings)\n",
    "    servings_per_tin={9:12,8:10,6:8,10:14}\n",
    "    \n",
    "    if \"cupcakes\" in servings:\n",
    "        try:\n",
    "            servings=int(servings[-11:-9])\n",
    "        except:\n",
    "            servings=int(re.search('\\d+', servings).group(0))\n",
    "    \n",
    "    elif bool(re.match(regex, servings)):\n",
    "        try:\n",
    "            servings=servings_per_tin.get(int(re.search('\\((.*)-inch',servings).group(1))) #[int(servings.split(\" \")[0]),re.search('\\((.*)-inch',servings).group(1)]\n",
    "        #except:\n",
    "            #try: \n",
    "                \n",
    "            #servings=servings_per_tin.get(int(re.search('\\((.*)-inch','servings').group(1))) #[servings.split(\" \")[0].lower().index(['one','two','three','four'])+1,re.search('\\((.*)-inch',recipe.servings).group(1)]\n",
    "        except:\n",
    "            servings=servings\n",
    "    elif bool(re.match(regex1, servings)):\n",
    "        try:\n",
    "            servings=servings_per_tin.get(int(re.search(' (.*)-inch',servings).group(1)))#[['one','two','three','four'].index(servings.split(\" \")[0].lower())+1,int(re.search(' (.*)-inch',servings).group(1))]\n",
    "            #servings=[int(servings.split(\" \")[0]),int(re.search(' (.*)-inch',servings).group(1))]\n",
    "        #except:\n",
    "            #try: \n",
    "                #servings=servings_per_tin.get(int(re.search(' (.*)-inch',servings).group(1)))#[['one','two','three','four'].index(servings.split(\" \")[0].lower())+1,int(re.search(' (.*)-inch',servings).group(1))]\n",
    "        except:\n",
    "            servings==servings\n",
    "    elif servings=='1 cake':\n",
    "        servings=12\n",
    "    elif servings=='2 cakes':\n",
    "        servings=24\n",
    "    elif servings=='1 loaf':\n",
    "        servings=8\n",
    "    elif servings=='2 loaves':\n",
    "        servings=16\n",
    "    else:\n",
    "        servings=re.sub(r' \\(.*\\)', '',servings)\n",
    "                \n",
    "        if \"servings\" in servings:\n",
    "            servings=servings[:-9]\n",
    "            try:\n",
    "                servings=int(servings)\n",
    "            except:\n",
    "                try:\n",
    "                    servings=(int(servings.split(\" \")[0])+int(servings.split(\" \")[2]))/2\n",
    "                except:\n",
    "                    try:\n",
    "                        servings=(int(servings.split(\"-\")[0])+int(servings.split(\"-\")[1]))/2\n",
    "                    except:\n",
    "                        servings=servings\n",
    "        else:\n",
    "            try:\n",
    "                servings=int(re.search('\\d+', servings).group(0))\n",
    "            except:\n",
    "                servings=servings\n",
    "            \n",
    "                \n",
    "    return servings\n",
    "\n"
   ]
  },
  {
   "cell_type": "code",
   "execution_count": 7,
   "metadata": {},
   "outputs": [
    {
     "data": {
      "text/html": [
       "<div>\n",
       "<style scoped>\n",
       "    .dataframe tbody tr th:only-of-type {\n",
       "        vertical-align: middle;\n",
       "    }\n",
       "\n",
       "    .dataframe tbody tr th {\n",
       "        vertical-align: top;\n",
       "    }\n",
       "\n",
       "    .dataframe thead th {\n",
       "        text-align: right;\n",
       "    }\n",
       "</style>\n",
       "<table border=\"1\" class=\"dataframe\">\n",
       "  <thead>\n",
       "    <tr style=\"text-align: right;\">\n",
       "      <th></th>\n",
       "      <th>Recipe_title</th>\n",
       "      <th>servings</th>\n",
       "      <th>ingredients</th>\n",
       "      <th>stars</th>\n",
       "      <th>Num_of_reviews</th>\n",
       "    </tr>\n",
       "  </thead>\n",
       "  <tbody>\n",
       "    <tr>\n",
       "      <th>0</th>\n",
       "      <td>Classic Vanilla Cake</td>\n",
       "      <td>12</td>\n",
       "      <td>['1 stick (8 tablespoons) unsalted butter, at ...</td>\n",
       "      <td>4.0</td>\n",
       "      <td>84.0</td>\n",
       "    </tr>\n",
       "    <tr>\n",
       "      <th>1</th>\n",
       "      <td>The Best Vanilla Cake</td>\n",
       "      <td>10</td>\n",
       "      <td>['Nonstick\\xa0baking\\xa0spray', \"3 1/2 cups al...</td>\n",
       "      <td>5.0</td>\n",
       "      <td>39.0</td>\n",
       "    </tr>\n",
       "    <tr>\n",
       "      <th>2</th>\n",
       "      <td>Basic Vanilla Cake 2</td>\n",
       "      <td>12</td>\n",
       "      <td>['Nonstick cooking spray', '3 cups cake flour,...</td>\n",
       "      <td>4.0</td>\n",
       "      <td>22.0</td>\n",
       "    </tr>\n",
       "    <tr>\n",
       "      <th>3</th>\n",
       "      <td>Vanilla Cake with Vanilla Swiss Buttercream</td>\n",
       "      <td>9</td>\n",
       "      <td>['Nonstick cooking spray, for the pans', '4 ou...</td>\n",
       "      <td>4.5</td>\n",
       "      <td>7.0</td>\n",
       "    </tr>\n",
       "    <tr>\n",
       "      <th>4</th>\n",
       "      <td>Vanilla Cake</td>\n",
       "      <td>1</td>\n",
       "      <td>[]</td>\n",
       "      <td>NaN</td>\n",
       "      <td>NaN</td>\n",
       "    </tr>\n",
       "  </tbody>\n",
       "</table>\n",
       "</div>"
      ],
      "text/plain": [
       "                                  Recipe_title servings  \\\n",
       "0                         Classic Vanilla Cake       12   \n",
       "1                        The Best Vanilla Cake       10   \n",
       "2                         Basic Vanilla Cake 2       12   \n",
       "3  Vanilla Cake with Vanilla Swiss Buttercream        9   \n",
       "4                                 Vanilla Cake        1   \n",
       "\n",
       "                                         ingredients  stars  Num_of_reviews  \n",
       "0  ['1 stick (8 tablespoons) unsalted butter, at ...    4.0            84.0  \n",
       "1  ['Nonstick\\xa0baking\\xa0spray', \"3 1/2 cups al...    5.0            39.0  \n",
       "2  ['Nonstick cooking spray', '3 cups cake flour,...    4.0            22.0  \n",
       "3  ['Nonstick cooking spray, for the pans', '4 ou...    4.5             7.0  \n",
       "4                                                 []    NaN             NaN  "
      ]
     },
     "execution_count": 7,
     "metadata": {},
     "output_type": "execute_result"
    }
   ],
   "source": [
    "recipedf.servings=recipedf.servings.map(lambda a: cleanservings(a))\n",
    "recipedf.head()"
   ]
  },
  {
   "cell_type": "code",
   "execution_count": 8,
   "metadata": {},
   "outputs": [],
   "source": [
    "def cleaningredients(ing):\n",
    "\n",
    "    ing=re.sub(r' \\(.*\\)', '',ing).replace('[', '').replace(']', '').replace('\\', ', '').replace('/xa0', '').split('\\'')[1:-1]\n",
    "    def fractofloat(x):\n",
    "        #converts the / fractions to decimals\n",
    "        try:\n",
    "            return re.sub(r'(\\d+)/(\\d+)', str(int(re.findall(r\"(\\d+)/\", x)[0])/int(re.findall(r\"/(\\d+)\", x)[0])),x)\n",
    "        except: \n",
    "            return x\n",
    "    ing=[fractofloat(x) for x in ing]\n",
    "    \n",
    "    "
   ]
  },
  {
   "cell_type": "code",
   "execution_count": 9,
   "metadata": {},
   "outputs": [],
   "source": [
    "# ing=re.sub(r' \\(.*\\)', '',recipedf.ingredients[0]).replace('[', '').replace(']', '').replace('\\', ', '').replace('/xa0', '').split('\\'')[1:-1]\n",
    "def fractofloat(x):\n",
    "        #converts the / fractions to decimals\n",
    "        try:\n",
    "            return re.sub(r'(\\d+)/(\\d+)', str(int(re.findall(r\"(\\d+)/\", x)[0])/int(re.findall(r\"/(\\d+)\", x)[0])),x)\n",
    "        except: \n",
    "            return x\n",
    "# ing=[fractofloat(x) for x in ing]\n",
    "\n",
    "\n",
    "def parseingredients(x):\n",
    "    \n",
    "    \"\"\"\n",
    "    3 0.5 cups flour->\n",
    "    3.5=measnum\n",
    "    cups=measunit\n",
    "    flour=corring\n",
    "    \n",
    "    \"\"\"\n",
    "    #print(x)\n",
    "    if type((re.search('\\d+', x)))!=type(re.search('.\\d+', 'ggf')):\n",
    "        measnum=float(re.search('\\d+', x).group(0))\n",
    "        if measnum!=0:\n",
    "            x=x.replace(re.search('\\d+', x).group(0), '')\n",
    "    else:\n",
    "        #x=x.replace(re.search('\\d+', x).group(0), '')\n",
    "        measnum=1\n",
    "        x='1 '+x\n",
    "    if type(re.search('0.\\d+', x))!=type(re.search('.\\d+', 'ggf')):\n",
    "        try:\n",
    "            measnum=measnum+float(re.search('0.\\d+', x).group(0))\n",
    "            x=x.replace(re.search('0.\\d+', x).group(0), '')\n",
    "        except:\n",
    "            measnum=0\n",
    "            x=x.replace(re.search('0.\\d+', x).group(0), '')\n",
    "    measunit=x.split()[0]\n",
    "    corring=x.replace(x.split()[0],'')\n",
    "    \n",
    "    return [measnum,measunit,corring]\n",
    "def simplifying(corring):\n",
    "    \n",
    "    \"\"\"\"shortens long winded ingredient descriptions \n",
    "    ie unsalted butter, at room temperature-> butter\"\"\"\n",
    "    basicingredients=['cake flour','flour','oranges','heavy cream','cream cheese','cornstarch','sugar','white vinegar','half-and-half ','honey','bean', 'lemon curd','butter', 'vanilla extract','almond extract','lemon extract','baking soda','baking powder','oats','eggs','egg','oil','cinnamon','cream of coconut','milk','water','whipping cream','cocoa','berries','box','salt','confectioners sugar','vanilla','powdered sugar','spray','pinepple','chocolate','balsamic vinegar','sour cream','cake mix','shortening','cream of tartar','brown sugar','cream of coconut','zest','nuts','chocolate chips','lemon juice','extract']\n",
    "    \n",
    "#     #notin=np.zeros(len(basicingredients))\n",
    "#     for basicing in basicingredients:\n",
    "#         print(basicing)\n",
    "#         try:\n",
    "#             corring[[(basicing in el) for el in corring].index(True)]=basicing\n",
    "#         except:\n",
    "#              #print(corring)\n",
    "#             u=1\n",
    "    ismatch=[0] * len(corring)\n",
    "    for i in range(len(corring)):\n",
    "        \n",
    "        for j in range(len(basicingredients)):\n",
    "            if basicingredients[j]  in corring[i]:\n",
    "                corring[i]=basicingredients[j]\n",
    "                ismatch[i]=1\n",
    "   \n",
    "    try:\n",
    "        print(corring[[i == 0 for i in ismatch].index(True)])\n",
    "        #print([i == 0 for i in [1,1,1,1,0]].index(True))\n",
    "    except:\n",
    "        r=1\n",
    "        \n",
    "    return corring"
   ]
  },
  {
   "cell_type": "code",
   "execution_count": 10,
   "metadata": {},
   "outputs": [],
   "source": [
    "def cleaningingredients(ing):\n",
    "    if len(ing)<=2:\n",
    "        return ''\n",
    "    ing=re.split('\\\\\\'',re.sub('\\([^()]*\\)', ' ',ing.replace('confectioners\\' sugar','confectioners sugar').replace('to','').replace('\\'s','').replace('[', '').replace(']', '').replace('\\',', '').replace('\\\\xa0', ' ').replace(' \\\"','\\'')))[1:-1]\n",
    "    #print(ing)\n",
    "    ing=[fractofloat(x) for x in ing]    \n",
    "    ing=[parseingredients(x) for x in ing]\n",
    "    [measnum,measunit,corring]=(list(zip(*ing)))\n",
    "    corring=list(corring)\n",
    "    measunit=list(measunit)\n",
    "    measnum=list(measnum)\n",
    "    corring=simplifying(corring)\n",
    "    return pd.Series((zip(measnum,measunit,corring)))\n"
   ]
  },
  {
   "cell_type": "code",
   "execution_count": 11,
   "metadata": {},
   "outputs": [],
   "source": [
    "# def cleaningingredients(ing):\n",
    "#     if len(ing)<=2:\n",
    "#         return ''\n",
    "#     ing=re.split('\\\\\\'',re.sub('\\([^()]*\\)', ' ',ing.replace('confectioners\\' sugar','confectioners sugar').replace('to','').replace('\\'s','').replace('[', '').replace(']', '').replace('\\',', '').replace('\\\\xa0', ' ').replace(' \\\"','\\'')))[1:-1]\n",
    "#     #print(ing)\n",
    "#     ing=[fractofloat(x) for x in ing]    \n",
    "#     ing=[parseingredients(x) for x in ing]\n",
    "#     [measnum,measunit,corring]=(list(zip(*ing)))\n",
    "#     corring=list(corring)\n",
    "#     measunit=list(measunit)\n",
    "#     measnum=list(measnum)\n",
    "#     corring=simplifying(corring)\n",
    "#     return corring\n",
    "\n"
   ]
  },
  {
   "cell_type": "code",
   "execution_count": 12,
   "metadata": {},
   "outputs": [],
   "source": [
    "# x=recipedf.ingredients.map(lambda a: cleaningingredients(a))"
   ]
  },
  {
   "cell_type": "code",
   "execution_count": 13,
   "metadata": {},
   "outputs": [
    {
     "name": "stdout",
     "output_type": "stream",
     "text": [
      "  pastel sprinkles  \n",
      " Chocolate Frosting, recipe follows\n",
      "   \n",
      " Butter, for greasing pan \n",
      " of  orange  \n",
      "  \n",
      "  sweetened shredded coconut \n",
      " Generous pinch coarsely ground black pepper  \n",
      " , \n",
      "  real maple syrup\n",
      "  sweet ancho chile pepper \n",
      "  sre-bought angel food cake \n",
      " Vanilla ice cream, for serving\\ \n",
      "  room temperature \n",
      "  cream \n",
      "  \n",
      " Generous pinch freshly grated nutmeg \n",
      " Vanilla and Chocolate Cakes: \n",
      " -ounce container part-skim ricotta \n",
      " Basic Vanilla Cake, recipe follows, baked and cooled \n",
      "  poppy seeds   \n",
      "  rainbow sprinkles or jimmies, plus more for decorating\n",
      "  plain lowfat   Greek yogurt \n",
      "  mascarpone cheese, room temperature  \n",
      "  \n",
      "  whipped cream   \n",
      "  freshly squeezed orange juice, divided \n",
      "  sliced paper thin and seeds removed   \n",
      "  finely chopped pecans \n",
      "  sweetened flaked coconut \n",
      " , \n",
      " Pink gel food coloring\n",
      "  rainbow sprinkles   \n",
      "  plus 2 tablespoons rainbow sprinkles \n",
      "  rainbow sprinkles, plus more for decorating \n",
      "  fine yellow cornmeal \n",
      " Sugar flowers, for decorating\n",
      "   dry red wine  \n",
      " Coconut Cream Cheese Frosting, recipe follows \n",
      "  fresh coconut cream \n",
      "  whites  , at room temperature \n",
      " -ounce can almond cake and pastry filling, such as Solo brand   \n",
      "  \n",
      " and juice of  lemon  \n",
      "  amaret Confectioners\\\\\n",
      "  poppy seeds  \n",
      "   almonds  \n",
      " Gel food coloring in red, orange, yellow, green, blue and purple  \n",
      "  frozen pink lemonade concentrate, thawed \n",
      " Cooking Spray \n",
      "  Smith apple, peeled, cored and diced in -inch pieces \n",
      " Toasted coconut flakes, for garnish \n",
      "  part-skim ricotta cheese\\  \n",
      "  \n",
      "  servings \n",
      "  juiced \n",
      "  fine yellow cornmeal \n",
      "  whites \n",
      "  lemon-lime soda, such as 7Up\n",
      "    margarine, such as Blue Bonnet, at room temperature, plus more  grease pans\n",
      "  confectioners\\\\\n",
      "   fresh or frozen finely chopped rhubarb  , about 6 ounces \n",
      " Confectioners\\\\\n",
      " Berries and whipped cream, for serving\n",
      " , \n",
      "  sliced almonds \n",
      "  cardamom pods \n",
      "  poppy seeds \n",
      " and juice of  lemon\n",
      "  ground ginger \n",
      " Pineapple Glaze, recipe follows \n",
      "  \n",
      " Fluff Frosting, recipe follows\n",
      "  blanched almonds \n",
      "  Amaret \n",
      " Confectioners\n",
      "  Italian rainbow cookies, chilled until very firm \n",
      "   ladyfinger cookies \n",
      "  confectioners\\\\\n",
      "  espresso powder\\  \n",
      "   Meyer lemons \n",
      " Sweetened whipped cream, for serving  \n",
      " Red gel food coloring, for the batter and frosting  \n",
      "   strong brewed black coffee, at room temperature \n",
      "  separated, whites at room temperature \n",
      "  rainbow sprinkles \n",
      " Reba Royal Glaze, recipe follows\",\n",
      "  instant coffee or espresso \n",
      " of  lime  \n",
      "  sliced in -inch-thick rounds  \n",
      "  Coconut Custard, recipe follows, cold \n",
      "  pound cake \n",
      "  lemons \n",
      " For the frosting: \n",
      "  \n",
      "  whites, at room temperature \n",
      " Confectioners\\\\\n",
      "  sweetened flaked coconut \n",
      "  \n",
      "  peaches or nectarines, pitted and cut in 6 wedges each \n",
      "  marshmallow creme \n",
      "  instant espresso powder \n",
      "  light rum \n",
      "  9-inch cake pans \n",
      "  slightly beaten \n",
      " Fondant flower, for garnish, optional\n",
      "  ripe peaches, peeled and finely diced   \n",
      "  whites, at room temperature \n",
      "  whites   \n",
      " Butter  grease pan   \n",
      " Flour, for dusting pan \n",
      " of  large lemons  \n",
      "  such as navel or Cara Cara \n",
      "  confectioners\\\\\n",
      "    pound cake, thawed and cut in 9   slices \n",
      "  unsulphured molasses \n",
      "  drained crushed pineapple \n",
      "  \n",
      "  \n",
      " Red, orange, yellow, green, blue and violet gel food colors \n",
      "  marshmallow creme\n",
      "  poppy seeds  \n",
      "    crushed pineapple, drained \n",
      "   poppy seeds \n",
      "  unsweetened applesauce \n",
      "  stick\\  \n",
      "   ground ginger \n",
      "  whites \n",
      "  room temperature \n",
      "  \n",
      " and juice of  clementine  \n",
      "  rhubarb stalks  , sliced in -inch pieces \n",
      "  orange juice\n",
      "  cut in -inch wedges   \n",
      " Basic Vanilla Cake, recipe follows, baked and cooled \n",
      "  pure maple syrup \n",
      "  finely chopped fresh rosemary  \n",
      " Creamy Chocolate Frosting, recipe follows\n",
      "  fine yellow cornmeal \n",
      " Coconut whipped cream, sre-bought or homemade, recipe follows \n",
      " Purple, blue, green, yellow, orange and pink gel food coloring, for tinting \n",
      "  large yolks, at room temperature \n",
      "  margarine, softened \n",
      " Generous pinch freshly grated nutmeg \n",
      " Almond Buttercream, recipe follows \n",
      "  orange liqueur \n",
      " from  lemons  \n",
      "  ice cream sandwiches \n",
      " Pomegranate seeds and chopped asted almonds, for pping\n",
      " , \n",
      "  \n",
      "  angel food cakes or sponge cake rounds \n",
      " Gel food coloring in neon green, black, leaf green and dark brown \n",
      "  peaches, peeled, pitted and cut in small dice or 2 cups frozen peaches   \n",
      "  banana pudding mix \n",
      " Ganache, recipe follows \n",
      "  multicolored sprinkles, plus more for garnish \n",
      "  \n",
      " -ounce can black cherry hard seltzer, such as White Claw Black Cherry Hard Seltzer \n",
      "  \n",
      " of  lemons \n",
      "  seedless red raspberry jam \n",
      "   flaked or shredded coconut \n",
      " -ounce can sliced pineapple  , 3 slices finely chopped   and the rest left whole \n",
      " Shortening, for greasing pan \n",
      "  freshly grated nutmeg \n",
      "  whites \n",
      "  wheat bran \n",
      "  \n",
      "  \n",
      "  multi-colored sprinkles\n",
      "  rainbow sprinkles, plus for sprinkling \n",
      "  fresh orange juice \n",
      "  ground ginger \n",
      "   \n",
      "  -ounce angel food cake, cut in -inch slices \n",
      "  strong coffee  \n",
      " Blue gel food coloring \n",
      "  corn syrup\n",
      "  piece crystallized ginger \n",
      "  finely grated peeled ginger \n",
      "  \n",
      "  sweetened flaked coconut \n",
      " Chocolate Cake: \n",
      " Ice Cream Cake: \n",
      "  orange juice \n",
      "  plain yogurt  \n",
      "  separated \n",
      "  separated \n",
      "  almond paste \n",
      " .-ounce packets powdered unflavored gelatin \n",
      "   almond meal \n",
      "  pistachios plus more, chopped, for garnish \n",
      "  yolks \n",
      "  grated carrots   \n",
      " -ounce can White Claw Natural Lime Hard Seltzer \n",
      "  \n",
      "  dark rum   \n",
      "  packed sweetened shredded coconut \n",
      " Decorative sprinkles \n",
      "  cayenne pepper \n",
      " from  lemon \n",
      "  \n",
      "  ground pistachios \n",
      "  yolks, at room temperature \n",
      "  whites \n",
      "  Kahlua or other coffee flavored liqueur \n",
      "  passion fruit, halved, pulp and juice scooped out or 1 cup unsweetened passion fruit juice \n",
      "   hot coffee \n",
      "  yolks \n",
      "  corn syrup  \n",
      "  \n",
      " -ounce package lime-flavored gelatin  \n",
      "  \n",
      "  at room temperature\\  \n",
      "  at room temperature \n",
      " Confectioners\n",
      "  \n",
      "  poppy seeds \n",
      "  whites \n",
      "  ground cardamom \n",
      "   \n",
      "   sifted pota starch*   \n",
      "  dark rum \n",
      " Pinch of ground nutmeg \n",
      "    minus 1 heaping tablespoon, cut in chips and softened \n",
      "  marshmallows   \n",
      "  \n",
      "  unsulphured molasses \n",
      "  hot brewed coffee \n",
      "  brewed coffee\\  \n",
      "  mangoes, 1 peeled and coarsely chopped and 1 peeled and cut in -inch dice \n",
      "  lemons \n",
      "  peach preserves\n",
      " Red, orange, yellow, green, blue and purple gel food coloring \n",
      "  sour cherry preserves\n",
      "  finely chopped almonds \n",
      "   \n",
      " Confectioners\n",
      "  sweetened flake coconut \n",
      "  whites \n",
      "  \n",
      " Pound cake \n",
      "  low-fat Greek yogurt, such as Fage\\  \n",
      "  espresso powder  \n",
      "  \n",
      "  unsweetened coconut flakes \n",
      " .5-ounce angel food cake, cut in -inch slices \n",
      " Cheese Frosting, recipe follows, or about  cups frosting of your choice \n",
      "  \n",
      "  instant espresso powder freeze dried coffee crystals   \n",
      " Tangerine glaze, recipe follows \n",
      "  pota starch \n",
      "   sweetened coconut flakes\n",
      " , \n",
      "  -ounce angel food cake, cut in -inch slices \n",
      "  rainbow sprinkles, plus more for decorating \n",
      "  ground ginger \n",
      "  fennel seeds \n",
      "  light corn syrup \n",
      " .3-ounce tubes refrigerated large flaky biscuits \n",
      "  cookies, such as Fig Newns \n",
      "  \n",
      "    low fat small curd cottage cheese, drained at least 30 minutes in a strainer set over a bowl in the refrigerar \n",
      "    soft caramel candies, unwrapped   \n",
      "  \n",
      "  \n",
      " Fig Filling, recipe follows \n",
      "  pitted, cut in sixths \n",
      " .5-ounce pound cake, cut in -inch slices \n",
      "  instant espresso powder \n",
      "  ground cloves  \n",
      " Ice cream \n",
      "  Duncan Hines® 00% Whole Grain Wild Maine Blueberry Muffin Mix \n",
      "  almond paste \n",
      " Pillsbury® Baking Spray with Flour \n",
      "   steamed white sticky rice \n",
      "  package shredded coconut\n",
      "  strawberry jam\n",
      "   sliced or slivered almonds, lightly asted \n",
      "  espresso powder \n",
      "  carrots, peeled \n",
      "  apples, peeled and chunked, such as McInsh \n",
      "   coconut flakes \n",
      " .5-ounce pound cake, cut in -inch slices \n",
      "  ancho chile powder, optional \n",
      "  nutmeg  \n",
      "  framboise \n",
      "   ladyfinger cookies \n",
      "  blue potaes \n",
      "  separated, whites at room temperature \n",
      "  Kahlua or other coffee flavored liqueur \n",
      "  separated, whites at room temperature \n",
      "  yolks \n",
      "  \n",
      "   brownies   \n",
      "  organic corn puree  \n",
      "  polenta, fine grind \n",
      "  separated \n",
      "  espresso powder \n",
      " from  lemons  \n",
      "  scrubbed and dried \n",
      "  nutmeg or more \n",
      "  plums \n",
      "  \n",
      "  yolks \n",
      "  instant coffee or espresso \n",
      "  instant espresso coffee powder \n",
      "  allspice \n",
      "  desiccated coconut \n",
      " Tangerine glaze, recipe follows \n",
      "  mango chutney, divided \n",
      " Glaze, recipe follows \n",
      "  \n",
      " Flour, for pan \n",
      "  Vanilla Buttercream divided in 5 bowls and colored red, orange, yellow, blue and green. \n",
      "      firm ripe plums, cut in -inch wedges  \n",
      "  mayonnaise \n",
      "  almond meal  \n",
      "   \n",
      "  mayonnaise \n",
      "  mascarpone cheese \n",
      " One-Bowl Chocolate Cake Batter   \n",
      "  poppy seeds \n",
      "  \n",
      "  fine semolina \n",
      "  ripe medium bananas    \n",
      "   mashed cooked sweet potaes \n",
      " Cocoa powder, for garnish \n",
      " , \n",
      "  room temperature \n",
      "  yolks, room temperature \n",
      "  whites \n",
      "  \n",
      "  Grand Marnier \n",
      "  Gluten-Free All-Purpose Flour Mix, recipe follows \n",
      "  seedless raspberry jam \n",
      "  rainbow sprinkles \n",
      "    blueberry muffin mix   \n",
      "  red gel food coloring \n",
      "  Cupcakes, recipe follows \n",
      " of  lemon \n",
      " Confectioners\\\\\n",
      "    unsweetened applesauce \n",
      "  sweetened shredded coconut \n",
      "  separated \n",
      " Basic Vanilla Cake, recipe follows, baked and cooled \n",
      "  limoncello \n",
      " Swiss Buttercream, recipe follows \n",
      "  stick  \n",
      "   tablespoons brewed coffee or espresso \n",
      "  pound cake, 1-inch thick \n",
      " -ounce bags sweetened coconut\n",
      "  at room temperature  \n",
      "   shredded sweetened coconut \n",
      "  sweetened, shredded coconut, for garnish \n",
      "    pumpkin quick bread mix   \n",
      "  whites   \n",
      "  fine white cornmeal   \n",
      " Pink, yellow and green gel food coloring \n",
      "  light corn syrup  \n",
      "  lemons \n",
      "  whites, room temperature \n",
      "  mayonnaise, plus more for brushing on the crab cakes \n",
      " and a half -ounce jars marshmallow creme \n",
      "  finely minced fresh basil  \n",
      " of  lemon plus 4 tablespoons juice \n",
      " Butter, for greasing \n",
      "  \n",
      "  diced \n",
      "  separated \n",
      "  ripe but firm, halved \n",
      "  separated \n",
      "  sponge cakes \n",
      "  yolks \n",
      "  Gewurztraminer or similar sweet white wine \n",
      "  shortbread cookies  \\  \n",
      "  diced white onion \n",
      "  yolks \n",
      "  mixed mushrooms, chanterelle and porbello \n",
      "  carn   Neapolitan ice cream \n",
      "   , preferably Medjool, chopped \n",
      "  pepper, finely diced \n",
      "  lard \n",
      "   grape juice\n",
      "  whites \n",
      " of  lemons  , plus  tablespoons juice  \n",
      "    sre-bought   yellow or white cake layers \n",
      "  chopped fresh dill \n",
      "   sweetened shredded coconut \n",
      "  shallot, minced  \n",
      "  polenta \n",
      "  orange \n",
      "  bought angel food cake \n",
      "  instant espresso powder \n",
      "  peeled and cut in chunks   \n",
      "    whipped pping\n",
      "  angel food cake\n",
      "  apples, peeled cored and thinly sliced \n",
      "  food cake, sre bought \n",
      "  lime juice \n"
     ]
    },
    {
     "name": "stdout",
     "output_type": "stream",
     "text": [
      "    frozen cherries \n",
      "  bought prepared angel food cake \n",
      "  instant espresso\\  \n",
      "    whipped pping, divided \n",
      "  angel food cake \n",
      "  angel food cake, cut in 1-inch cubes  \n",
      "  mint leaves \n",
      "    Duncan Hines® Angel Food Cake \n",
      "  dry Italian red wine \n",
      "  Mexican coffee flavored liqueur   \n",
      "  lemon sorbet \n",
      "  \n",
      " Cake: \n",
      "  separated \n",
      " Butter, for greasing \n",
      "    pound cake \n",
      "  almond meal  \n",
      "  peeled and quartered \n",
      "  frozen lemonade concentrate, thawed \n",
      "  pound cake ring \n",
      "   \n",
      "  separated \n",
      "  lemonade  \n",
      "   shredded rotisserie chicken, finely chopped \n",
      "  individual sponge cakes, sold in packages of 6 on baking aisle \n",
      "  finely minced fresh thyme, plus sprigs for garnish\n",
      "  chopped fine \n",
      "   flaked smoked trout \n",
      "  cloves  \n",
      "  lemon sorbet, slightly softened \n",
      "    chopped fresh chives \n",
      "  separated \n",
      "  sliced almonds \n",
      "  sliced almonds, asted, coarsely crumbled \n",
      "  almond paste, cut in pieces \n",
      "  confectioners\\\\\n",
      "  \n",
      "  ground asted almonds \n",
      "  pistachios \n",
      "  limoncello \n",
      "  almond meal \n",
      "  onion, finely chopped \n",
      " Pinch of ground nutmeg \n",
      "  rind only \n",
      " Confectioners\\\\\n",
      "   mashed ripe banana \n",
      "  packaged lemon pudding mix   \n",
      "  blanched almonds \n",
      " -ounce container cool whip \n",
      "  jars marshmallow cream \n",
      "  blanched almonds \n",
      "  pound cake \n",
      "  \n",
      "  celery, chopped \n",
      "   \n",
      "   shortbread cookie crumbs,   \n",
      "  sliced almonds \n",
      "  \n",
      "  jumbo lump crab meat, dried \n",
      "  \n",
      "  \n",
      "  prepared pound cake \n",
      " Frosting, recipe follows, for pping\n",
      "  sliced almonds \n",
      "  whites \n",
      "  light corn syrup \n",
      "  cup dried lavender \n",
      "  freshly ground nutmeg \n",
      "  vegan margarine, melted \n",
      "  \n",
      "  graham cracker crumbs \n",
      "  flaked coconut \n",
      "  light corn syrup \n",
      "   juiced \n",
      "  \n",
      "  All-Purpose Gluten-Free Flour Mix, recipe follows \n",
      "  sweetened shredded coconut \n"
     ]
    }
   ],
   "source": [
    "recipedf.ingredients=recipedf.ingredients.map(lambda a: cleaningingredients(a))\n"
   ]
  },
  {
   "cell_type": "code",
   "execution_count": 14,
   "metadata": {},
   "outputs": [],
   "source": [
    "# def flatten_list(_2d_list):\n",
    "#     flat_list = []\n",
    "#     # Iterate through the outer list\n",
    "#     for element in _2d_list:\n",
    "#         if type(element) is list:\n",
    "#             # If the element is of type list, iterate through the sublist\n",
    "#             for item in element:\n",
    "#                 flat_list.append(item)\n",
    "#         else:\n",
    "#             flat_list.append(element)\n",
    "#     return flat_list\n",
    "\n",
    "# x=flatten_list(x)\n"
   ]
  },
  {
   "cell_type": "code",
   "execution_count": 15,
   "metadata": {},
   "outputs": [],
   "source": [
    "# from collections import Counter\n",
    "# Counter(x)"
   ]
  },
  {
   "cell_type": "code",
   "execution_count": 16,
   "metadata": {},
   "outputs": [],
   "source": [
    "# counter=Counter(x)\n",
    "# k=list(counter.keys())\n",
    "# v=list(counter.values())\n",
    "# plt.barh(k[0:25], v[0:25], color='green')\n",
    "# plt.xlabel(\"Frequency\")\n",
    "# plt.ylabel(\"Ingredient\")\n",
    "# plt.title(\"Ingredient Frequency\")\n",
    "# plt.show()"
   ]
  },
  {
   "cell_type": "code",
   "execution_count": 17,
   "metadata": {},
   "outputs": [],
   "source": [
    "recipedf=recipedf.reset_index()"
   ]
  },
  {
   "cell_type": "code",
   "execution_count": 18,
   "metadata": {},
   "outputs": [],
   "source": [
    "\n",
    "# recipedf.ingredients[0]\n",
    "# ingset={'cup'}\n",
    "# for j in range(len(recipedf.ingredients)):\n",
    "#     for i in range(len(recipedf.ingredients[j])):\n",
    "\n",
    "#         ingset.add(recipedf.ingredients[j][i][1])\n",
    "# ingset"
   ]
  },
  {
   "cell_type": "code",
   "execution_count": 19,
   "metadata": {},
   "outputs": [
    {
     "ename": "SyntaxError",
     "evalue": "unmatched ']' (<ipython-input-19-7887a3acc723>, line 1)",
     "output_type": "error",
     "traceback": [
      "\u001b[0;36m  File \u001b[0;32m\"<ipython-input-19-7887a3acc723>\"\u001b[0;36m, line \u001b[0;32m1\u001b[0m\n\u001b[0;31m    'cake flour','flour','oranges','heavy cream','cream cheese','cornstarch','sugar','white vinegar','half-and-half ','honey','bean', 'lemon curd','butter', 'vanilla extract','almond extract','lemon extract','baking soda','baking powder','oats','eggs','egg','oil','cinnamon','cream of coconut','milk','water','whipping cream','cocoa','berries','box','salt','confectioners sugar','vanilla','powdered sugar','spray','pinepple','chocolate','balsamic vinegar','sour cream','cake mix','shortening','cream of tartar','brown sugar','cream of coconut','zest','nuts','chocolate chips','lemon juice','extract']\u001b[0m\n\u001b[0m                                                                                                                                                                                                                                                                                                                                                                                                                                                                                                                                                                                                                       ^\u001b[0m\n\u001b[0;31mSyntaxError\u001b[0m\u001b[0;31m:\u001b[0m unmatched ']'\n"
     ]
    }
   ],
   "source": [
    "'cake flour','flour','oranges','heavy cream','cream cheese','cornstarch','sugar','white vinegar','half-and-half ','honey','bean', 'lemon curd','butter', 'vanilla extract','almond extract','lemon extract','baking soda','baking powder','oats','eggs','egg','oil','cinnamon','cream of coconut','milk','water','whipping cream','cocoa','berries','box','salt','confectioners sugar','vanilla','powdered sugar','spray','pinepple','chocolate','balsamic vinegar','sour cream','cake mix','shortening','cream of tartar','brown sugar','cream of coconut','zest','nuts','chocolate chips','lemon juice','extract']"
   ]
  },
  {
   "cell_type": "code",
   "execution_count": null,
   "metadata": {},
   "outputs": [],
   "source": []
  },
  {
   "cell_type": "code",
   "execution_count": 20,
   "metadata": {},
   "outputs": [],
   "source": [
    "#ing:cost/cup,cal/cup\n",
    "\n",
    "\n",
    "ingredient=pd.Series(['cake flour','flour','oranges','heavy cream','cream cheese','cornstarch','sugar','white vinegar','half-and-half ','honey','bean', 'lemon curd','butter', 'vanilla extract','almond extract','lemon extract',\n",
    "                      'baking soda','baking powder','oats','eggs','egg','oil','cinnamon','cream of coconut','milk','water','whipping cream','cocoa','berries','box','salt','confectioners sugar','vanilla','powdered sugar','spray','pineapple',\n",
    "                      'chocolate','balsamic vinegar','sour cream','cake mix','shortening','cream of tartar','brown sugar','zest','nuts','chocolate chips','lemon juice','extract'])\n",
    "costpercup=pd.Series([3.53/32,1.89/(32/4.25),.79,2.39/2,3.89/2,2.39/3.78,2.89/9.5,1.19/2,3.59/4,3.89,8,2.99/(10/11.3),3.99,8.59*4,4.89*4,4.79*4,.99/2,2.39,5.49/9,2.29/12,2.29/12,2.99/6,4.79/(67/124),2.49/1.5,3.59/16,0,3.89/2,3.99/1.89,3.99/3,1.59,0,3.69/7,34.36,\n",
    "                      3.69/7,0,0,6.79/3,3.49/2,2.29/1.875,1.59,4.99/2.375,0,2.69/4.1,.49,4.01/(5/4),2.26333,2.49/1.85417,19.56])\n",
    "calpercup=pd.Series([496,455,70,808,812,488,768, 43.2,295,960,0,15*60,1600,576,576,576,0,117,380,70,70,909,308,140*12/1.5,150,0,808,160,85,1600,0,467,576,\n",
    "                     467,0,0,806,224,60*8,1600,110*16,0,551,0,200*4,806,41,576])\n",
    "\n",
    "\n"
   ]
  },
  {
   "cell_type": "code",
   "execution_count": 21,
   "metadata": {},
   "outputs": [],
   "source": [
    "\n",
    "def costandcalcolumns(recipeings):\n",
    "    \n",
    "    measurements={'-cup':1,'cup':1,'-ounce':1/8,'-ounces':1/8,'Tbs.':1/16,'Tbsp.':1/16,'cup':1,'cups':1,'cups,':1,'grams':1/186,'pound':2,'pound,':2,'pounds':2,'quart':4,\n",
    "             'quart':4,'quarts':4,'ounces':1/8,'ounce':1/8,'tbsp.':1/16,'teasoons':1/48,'teaspoon':1/48,'teaspoons':1/48,'tsp.':1/48,'stick':.5,'tablespoon':1/16,'tablespoons':1/16,' sticks':.5,' stick':.5,'sticks':.5}\n",
    "    \n",
    "    costlist=[0]\n",
    "    callist=[0]\n",
    "    ingredient=pd.Series(['cake flour','flour','oranges','heavy cream','cream cheese','cornstarch','sugar','white vinegar','half-and-half ','honey','bean', 'lemon curd','butter', 'vanilla extract','almond extract','lemon extract',\n",
    "                      'baking soda','baking powder','oats','eggs','egg','oil','cinnamon','cream of coconut','milk','water','whipping cream','cocoa','berries','box','salt','confectioners sugar','vanilla','powdered sugar','spray','pineapple',\n",
    "                      'chocolate','balsamic vinegar','sour cream','cake mix','shortening','cream of tartar','brown sugar','zest','nuts','chocolate chips','lemon juice','extract'])\n",
    "    costpercup=pd.Series([3.53/32,1.89/(32/4.25),.79,2.39/2,3.89/2,2.39/3.78,2.89/9.5,1.19/2,3.59/4,3.89,8,2.99/(10/11.3),3.99,8.59*4,4.89*4,4.79*4,.99/2,2.39,5.49/9,2.29/12,2.29/12,2.99/6,4.79/(67/124),2.49/1.5,3.59/16,0,3.89/2,3.99/1.89,3.99/3,1.59,0,3.69/7,34.36,\n",
    "                      3.69/7,0,0,6.79/3,3.49/2,2.29/1.875,1.59,4.99/2.375,0,2.69/4.1,.49,4.01/(5/4),2.26333,2.49/1.85417,19.56])\n",
    "    calpercup=pd.Series([496,455,70,808,812,488,768, 43.2,295,960,0,15*60,1600,576,576,576,0,117,380,70,70,909,308,140*12/1.5,150,0,808,160,85,1600,0,467,576,\n",
    "                     467,0,0,806,224,60*8,1600,110*16,0,551,0,200*4,806,41,576])\n",
    "\n",
    "\n",
    "    for i in range(len(recipeings)):\n",
    "        ingcost=0\n",
    "        ingcals=0\n",
    "        for ii in range(len(ingredient)):\n",
    "            \n",
    "            if ingredient[ii] in recipeings[i]:\n",
    "                if ii==20: #eggs\n",
    "                    \n",
    "                    ingcost+=(recipeings[i][0]*costpercup[ii])\n",
    "                    ingcals+=(recipeings[i][0]*calpercup[ii])\n",
    "                elif ii==19: #eggs\n",
    "                    \n",
    "                    ingcost+=(recipeings[i][0]*costpercup[ii])\n",
    "                    ingcals+=(recipeings[i][0]*calpercup[ii])\n",
    "                else:\n",
    "                    try:\n",
    "                        ingcost=ingcost+(measurements.get(recipeings[i][1])*costpercup[ii])\n",
    "                        ingcals+=(measurements.get(recipeings[i][1])*calpercup[ii])\n",
    "                    except:\n",
    "                        #print(ingredient[ii])\n",
    "                        #print(ii==19 | ii==20)\n",
    "                        ingcost+=0\n",
    "                        ingcals+=0\n",
    "        costlist+=[ingcost]\n",
    "        callist+=[ingcals]\n",
    "       \n",
    "    return [sum(callist),sum(costlist)]\n"
   ]
  },
  {
   "cell_type": "code",
   "execution_count": 22,
   "metadata": {},
   "outputs": [],
   "source": [
    "x=recipedf.ingredients.map(lambda a: costandcalcolumns(a))\n",
    "cal, cost = map(list, zip(*x))\n"
   ]
  },
  {
   "cell_type": "code",
   "execution_count": 23,
   "metadata": {},
   "outputs": [],
   "source": [
    "recipedf['Calories']=cal\n",
    "recipedf['Cost']=cost"
   ]
  },
  {
   "cell_type": "code",
   "execution_count": 24,
   "metadata": {},
   "outputs": [],
   "source": [
    "costperserv=[]\n",
    "calperserv=[]\n",
    "\n",
    "for i in range(557):\n",
    "    try:\n",
    "        costperserv+=[recipedf.Cost[i]/recipedf.servings[i]]\n",
    "    except:\n",
    "        costperserv+=[0]\n",
    "    try:\n",
    "        calperserv+=[recipedf.Calories[i]/recipedf.servings[i]]\n",
    "    except:\n",
    "        calperserv+=[0]\n",
    "recipedf['Cost_per_serv']=(costperserv)\n",
    "recipedf['Cal_per_serv']=(calperserv)"
   ]
  },
  {
   "cell_type": "code",
   "execution_count": 25,
   "metadata": {},
   "outputs": [],
   "source": [
    "# sources for cost and cal\n",
    "\n",
    "# https://www.nutritionix.com/food/cake-flour\n",
    "# https://www.target.com/p/king-arthur-flour-unbleached-cake-flour-32oz/-/A-50212720#lnk=sametab\n",
    "\n",
    "# https://www.google.com/search?client=safari&rls=en&q=cups+of+cake+flour+in+oz&ie=UTF-8&oe=UTF-8"
   ]
  },
  {
   "cell_type": "code",
   "execution_count": 26,
   "metadata": {},
   "outputs": [],
   "source": [
    "%matplotlib inline"
   ]
  },
  {
   "cell_type": "code",
   "execution_count": 27,
   "metadata": {},
   "outputs": [],
   "source": [
    "import pandas as pd\n",
    "import numpy as np\n",
    "from matplotlib import pyplot as plt\n",
    "plt.style.use('ggplot')"
   ]
  },
  {
   "cell_type": "code",
   "execution_count": 28,
   "metadata": {},
   "outputs": [
    {
     "data": {
      "text/plain": [
       "5.0    151\n",
       "4.5    105\n",
       "4.0     79\n",
       "3.0     31\n",
       "3.5     29\n",
       "1.0     11\n",
       "2.5     10\n",
       "2.0      6\n",
       "1.5      1\n",
       "Name: stars, dtype: int64"
      ]
     },
     "execution_count": 28,
     "metadata": {},
     "output_type": "execute_result"
    }
   ],
   "source": [
    "recipedf['stars'].value_counts()"
   ]
  },
  {
   "cell_type": "code",
   "execution_count": 29,
   "metadata": {},
   "outputs": [
    {
     "data": {
      "text/plain": [
       "Text(0.5, 1.0, 'Histogram of Cost per Servings')"
      ]
     },
     "execution_count": 29,
     "metadata": {},
     "output_type": "execute_result"
    },
    {
     "data": {
      "image/png": "[encoded data removed]",
      "text/plain": [
       "<Figure size 432x288 with 1 Axes>"
      ]
     },
     "metadata": {},
     "output_type": "display_data"
    }
   ],
   "source": [
    "temp=recipedf['Cost_per_serv'][recipedf['Cost_per_serv']>0 ]\n",
    "temp.head(2)\n",
    "plt.hist(temp[temp<5])\n",
    "plt.xlabel('Cost per Serving')\n",
    "plt.ylabel('count')\n",
    "plt.title('Histogram of Cost per Servings', fontsize=20)"
   ]
  },
  {
   "cell_type": "code",
   "execution_count": 30,
   "metadata": {},
   "outputs": [
    {
     "data": {
      "text/plain": [
       "Text(0.5, 1.0, 'Histogram of Cost per Servings')"
      ]
     },
     "execution_count": 30,
     "metadata": {},
     "output_type": "execute_result"
    },
    {
     "data": {
      "image/png": "[encoded data removed]",
      "text/plain": [
       "<Figure size 432x288 with 1 Axes>"
      ]
     },
     "metadata": {},
     "output_type": "display_data"
    }
   ],
   "source": [
    "temp=recipedf['Cost_per_serv'][recipedf['Cost_per_serv']>0 ]\n",
    "temp.head(2)\n",
    "plt.hist(temp[temp<1])\n",
    "plt.xlabel('Cost per Serving')\n",
    "plt.ylabel('count')\n",
    "plt.title('Histogram of Cost per Servings', fontsize=20)"
   ]
  },
  {
   "cell_type": "code",
   "execution_count": 31,
   "metadata": {},
   "outputs": [
    {
     "data": {
      "text/plain": [
       "Text(0.5, 1.0, 'Histogram of Calories per Servings')"
      ]
     },
     "execution_count": 31,
     "metadata": {},
     "output_type": "execute_result"
    },
    {
     "data": {
      "image/png": "[encoded data removed]",
      "text/plain": [
       "<Figure size 432x288 with 1 Axes>"
      ]
     },
     "metadata": {},
     "output_type": "display_data"
    }
   ],
   "source": [
    "temp=recipedf['Cal_per_serv'][recipedf['Cal_per_serv']>0 ]\n",
    "temp.head(2)\n",
    "plt.hist(temp[temp<800])\n",
    "plt.xlabel('Calories per Serving')\n",
    "plt.ylabel('count')\n",
    "plt.title('Histogram of Calories per Servings', fontsize=20)"
   ]
  },
  {
   "cell_type": "code",
   "execution_count": 32,
   "metadata": {},
   "outputs": [
    {
     "data": {
      "text/plain": [
       "Text(0.5, 1.0, 'Number of Reviews vs Recipe Rating')"
      ]
     },
     "execution_count": 32,
     "metadata": {},
     "output_type": "execute_result"
    },
    {
     "data": {
      "image/png": "[encoded data removed]",
      "text/plain": [
       "<Figure size 432x288 with 1 Axes>"
      ]
     },
     "metadata": {},
     "output_type": "display_data"
    }
   ],
   "source": [
    "# temp=recipedf['Cal_per_serv'][recipedf['Cal_per_serv']>0 ]\n",
    "# tempstars=recipedf['stars'][recipedf['Cal_per_serv']>0 ]\n",
    "plt.scatter(recipedf['stars'], recipedf['Num_of_reviews'], alpha=0.25)\n",
    "plt.xlabel('Star Rating')\n",
    "plt.ylabel('Number of Reviews')\n",
    "plt.title('Number of Reviews vs Recipe Rating', fontsize=20)"
   ]
  },
  {
   "cell_type": "code",
   "execution_count": 33,
   "metadata": {},
   "outputs": [
    {
     "data": {
      "text/plain": [
       "Text(0.5, 1.0, 'Cost per Serving vs Recipe Rating')"
      ]
     },
     "execution_count": 33,
     "metadata": {},
     "output_type": "execute_result"
    },
    {
     "data": {
      "image/png": "[encoded data removed]",
      "text/plain": [
       "<Figure size 432x288 with 1 Axes>"
      ]
     },
     "metadata": {},
     "output_type": "display_data"
    }
   ],
   "source": [
    "scatter_df = recipedf[['Cost_per_serv', 'stars']]\n",
    "scatter_df = scatter_df.loc[scatter_df.apply(lambda x: np.abs(x - x.mean()) / x.std() < 3).all(axis=1)]\n",
    "scatter_df.plot.scatter(x='stars', y='Cost_per_serv',alpha=.5)\n",
    "\n",
    "\n",
    "plt.xlabel('Star Rating')\n",
    "plt.ylabel('Cost per Serving')\n",
    "plt.title('Cost per Serving vs Recipe Rating', fontsize=20)"
   ]
  },
  {
   "cell_type": "code",
   "execution_count": 34,
   "metadata": {},
   "outputs": [],
   "source": [
    "# scatter_df = recipedf[['Cal_per_serv', 'stars']]\n",
    "# scatter_df = scatter_df.loc[scatter_df.apply(lambda x: np.abs(x - x.mean()) / x.std() < 3).all(axis=1)]\n",
    "# scatter_df.plot.scatter(x='stars', y='Cal_per_serv',alpha=.5)\n",
    "\n",
    "\n",
    "# plt.xlabel('Star Rating')\n",
    "# plt.ylabel('Caloreis per Serving')\n",
    "# plt.title('Calories per Serving vs Recipe Rating', fontsize=20)"
   ]
  },
  {
   "cell_type": "code",
   "execution_count": 35,
   "metadata": {},
   "outputs": [
    {
     "data": {
      "text/plain": [
       "Text(0.5, 1.0, 'Calories per Serving vs Recipe Rating')"
      ]
     },
     "execution_count": 35,
     "metadata": {},
     "output_type": "execute_result"
    },
    {
     "data": {
      "image/png": "[encoded data removed]",
      "text/plain": [
       "<Figure size 432x288 with 1 Axes>"
      ]
     },
     "metadata": {},
     "output_type": "display_data"
    }
   ],
   "source": [
    "temp=recipedf['Cal_per_serv'][recipedf['Cal_per_serv']<800 ]\n",
    "tempstars=recipedf['stars'][recipedf['Cal_per_serv']<800 ]\n",
    "scatter_df=pd.concat([temp, tempstars], axis=1)\n",
    "scatter_df = scatter_df.loc[scatter_df.apply(lambda x: np.abs(x - x.mean()) / x.std() < 3).all(axis=1)]\n",
    "scatter_df.plot.scatter(x='stars', y='Cal_per_serv',alpha=.5)\n",
    "\n",
    "\n",
    "plt.xlabel('Star Rating')\n",
    "plt.ylabel('Caloreis per Serving')\n",
    "plt.title('Calories per Serving vs Recipe Rating', fontsize=20)\n"
   ]
  },
  {
   "cell_type": "code",
   "execution_count": 36,
   "metadata": {},
   "outputs": [
    {
     "data": {
      "text/plain": [
       "Text(0.5, 1.0, 'Histogram of Calories per Servings')"
      ]
     },
     "execution_count": 36,
     "metadata": {},
     "output_type": "execute_result"
    },
    {
     "data": {
      "image/png": "[encoded data removed]",
      "text/plain": [
       "<Figure size 432x288 with 1 Axes>"
      ]
     },
     "metadata": {},
     "output_type": "display_data"
    }
   ],
   "source": [
    "temp=recipedf['Cal_per_serv'][recipedf['stars']==5 ]\n",
    "temp=temp[temp>0]\n",
    "plt.hist(temp[temp<800])\n",
    "plt.xlabel('Calorie Distribution of 5 Star Recipe')\n",
    "plt.ylabel('count')\n",
    "plt.title('Histogram of Calories per Servings', fontsize=20)"
   ]
  },
  {
   "cell_type": "code",
   "execution_count": 37,
   "metadata": {},
   "outputs": [
    {
     "data": {
      "text/plain": [
       "Text(0.5, 1.0, 'Histogram of Calories per Servings')"
      ]
     },
     "execution_count": 37,
     "metadata": {},
     "output_type": "execute_result"
    },
    {
     "data": {
      "image/png": "[encoded data removed]",
      "text/plain": [
       "<Figure size 432x288 with 1 Axes>"
      ]
     },
     "metadata": {},
     "output_type": "display_data"
    }
   ],
   "source": [
    "temp=recipedf['Cost_per_serv'][recipedf['stars']==5 ]\n",
    "temp=temp[temp>0]\n",
    "plt.hist(temp[temp<10])\n",
    "plt.xlabel('Calorie Distribution of 5 Star Recipe')\n",
    "plt.ylabel('count')\n",
    "plt.title('Histogram of Calories per Servings', fontsize=20)"
   ]
  },
  {
   "cell_type": "code",
   "execution_count": 45,
   "metadata": {},
   "outputs": [
    {
     "data": {
      "text/plain": [
       "Text(0, 0.5, 'Calories per Serving')"
      ]
     },
     "execution_count": 45,
     "metadata": {},
     "output_type": "execute_result"
    },
    {
     "data": {
      "image/png": "[encoded data removed]",
      "text/plain": [
       "<Figure size 432x288 with 1 Axes>"
      ]
     },
     "metadata": {},
     "output_type": "display_data"
    }
   ],
   "source": [
    "temp=recipedf['Cal_per_serv'][recipedf['Cal_per_serv']<800 ]\n",
    "tempstars=recipedf['stars'][recipedf['Cal_per_serv']<800 ]\n",
    "\n",
    "df_score =pd.concat([temp, tempstars], axis=1)\n",
    "df_score.boxplot(by='stars', column='Cal_per_serv')\n",
    "plt.ylabel('Calories per Serving')"
   ]
  },
  {
   "cell_type": "code",
   "execution_count": 43,
   "metadata": {},
   "outputs": [
    {
     "data": {
      "text/plain": [
       "276.6004006327406"
      ]
     },
     "execution_count": 43,
     "metadata": {},
     "output_type": "execute_result"
    }
   ],
   "source": [
    "recipedf['Cal_per_serv'][recipedf['Cal_per_serv']<800 ].mean()\n",
    "#recipedf['Cost_per_serv'][recipedf['Cost_per_serv']<10 ].median()"
   ]
  },
  {
   "cell_type": "code",
   "execution_count": 40,
   "metadata": {},
   "outputs": [
    {
     "data": {
      "text/plain": [
       "Text(0.5, 1.0, 'Cost vs Calories per Serving of 5 Star Recipe')"
      ]
     },
     "execution_count": 40,
     "metadata": {},
     "output_type": "execute_result"
    },
    {
     "data": {
      "image/png": "[encoded data removed]",
      "text/plain": [
       "<Figure size 432x288 with 1 Axes>"
      ]
     },
     "metadata": {},
     "output_type": "display_data"
    }
   ],
   "source": [
    "temp=recipedf['Cost_per_serv'][recipedf['stars']==5 ]\n",
    "temp1=recipedf['Cal_per_serv'][recipedf['stars']==5 ]\n",
    "scatter_df=pd.concat([temp, temp1], axis=1)\n",
    "temp=scatter_df['Cost_per_serv'][scatter_df['Cal_per_serv']>0 ]\n",
    "temp1=scatter_df['Cal_per_serv'][scatter_df['Cal_per_serv']>0 ]\n",
    "scatter_df=pd.concat([temp, temp1], axis=1)\n",
    "temp=scatter_df['Cost_per_serv'][scatter_df['Cost_per_serv']>0 ]\n",
    "temp1=scatter_df['Cal_per_serv'][scatter_df['Cost_per_serv']>0 ]\n",
    "scatter_df=pd.concat([temp, temp1], axis=1)\n",
    "scatter_df = scatter_df.loc[scatter_df.apply(lambda x: np.abs(x - x.mean()) / x.std() < 3).all(axis=1)]\n",
    "scatter_df.plot.scatter(x='Cost_per_serv', y='Cal_per_serv',alpha=.5)\n",
    "plt.xlabel('Cost')\n",
    "plt.ylabel('Calories')\n",
    "plt.title('Cost vs Calories per Serving of 5 Star Recipe', fontsize=20)\n"
   ]
  },
  {
   "cell_type": "code",
   "execution_count": 41,
   "metadata": {},
   "outputs": [
    {
     "data": {
      "text/plain": [
       "Text(0.5, 1.0, 'Cost vs Calories per Serving of 5 Star Recipe')"
      ]
     },
     "execution_count": 41,
     "metadata": {},
     "output_type": "execute_result"
    },
    {
     "data": {
      "image/png": "[encoded data removed]",
      "text/plain": [
       "<Figure size 432x288 with 2 Axes>"
      ]
     },
     "metadata": {},
     "output_type": "display_data"
    }
   ],
   "source": [
    "temp=recipedf['Cost_per_serv'][recipedf['stars']==5 ]\n",
    "temp1=recipedf['Cal_per_serv'][recipedf['stars']==5 ]\n",
    "temp2=recipedf['Num_of_reviews'][recipedf['stars']==5 ]\n",
    "scatter_df=pd.concat([temp, temp1,temp2], axis=1)\n",
    "temp=scatter_df['Cost_per_serv'][scatter_df['Cal_per_serv']>0 ]\n",
    "temp1=scatter_df['Cal_per_serv'][scatter_df['Cal_per_serv']>0 ]\n",
    "temp2=scatter_df['Num_of_reviews'][recipedf['Cal_per_serv']>0  ]\n",
    "scatter_df=pd.concat([temp, temp1,temp2], axis=1)\n",
    "temp=scatter_df['Cost_per_serv'][scatter_df['Cost_per_serv']>0 ]\n",
    "temp1=scatter_df['Cal_per_serv'][scatter_df['Cost_per_serv']>0 ]\n",
    "temp2=scatter_df['Num_of_reviews'][recipedf['Cost_per_serv']>0  ]\n",
    "scatter_df=pd.concat([temp, temp1,temp2], axis=1)\n",
    "temp=scatter_df['Cost_per_serv'][scatter_df['Cost_per_serv']<.5 ]\n",
    "temp1=scatter_df['Cal_per_serv'][scatter_df['Cost_per_serv']<.5 ]\n",
    "temp2=scatter_df['Num_of_reviews'][recipedf['Cost_per_serv']<.5  ]\n",
    "scatter_df=pd.concat([temp, temp1,temp2], axis=1)\n",
    "#scatter_df = scatter_df.loc[scatter_df.apply(lambda x: np.abs(x - x.mean()) / x.std() < 3).all(axis=1)]\n",
    "scatter_df.plot.scatter(x='Cost_per_serv', y='Cal_per_serv',c='Num_of_reviews',cmap='Greens')\n",
    "\n",
    "plt.ylabel('Calories')\n",
    "plt.xlabel('Cost')\n",
    "plt.title('Cost vs Calories per Serving of 5 Star Recipe', fontsize=10)\n",
    "\n"
   ]
  },
  {
   "cell_type": "code",
   "execution_count": 42,
   "metadata": {},
   "outputs": [
    {
     "data": {
      "text/html": [
       "<div>\n",
       "<style scoped>\n",
       "    .dataframe tbody tr th:only-of-type {\n",
       "        vertical-align: middle;\n",
       "    }\n",
       "\n",
       "    .dataframe tbody tr th {\n",
       "        vertical-align: top;\n",
       "    }\n",
       "\n",
       "    .dataframe thead th {\n",
       "        text-align: right;\n",
       "    }\n",
       "</style>\n",
       "<table border=\"1\" class=\"dataframe\">\n",
       "  <thead>\n",
       "    <tr style=\"text-align: right;\">\n",
       "      <th></th>\n",
       "      <th>index</th>\n",
       "      <th>Recipe_title</th>\n",
       "      <th>servings</th>\n",
       "      <th>ingredients</th>\n",
       "      <th>stars</th>\n",
       "      <th>Num_of_reviews</th>\n",
       "      <th>Calories</th>\n",
       "      <th>Cost</th>\n",
       "      <th>Cost_per_serv</th>\n",
       "      <th>Cal_per_serv</th>\n",
       "    </tr>\n",
       "  </thead>\n",
       "  <tbody>\n",
       "    <tr>\n",
       "      <th>53</th>\n",
       "      <td>135</td>\n",
       "      <td>Lemon Angel Food Cake</td>\n",
       "      <td>8</td>\n",
       "      <td>0                   (2.0, cups, sugar)\n",
       "1    (1...</td>\n",
       "      <td>5.0</td>\n",
       "      <td>80.0</td>\n",
       "      <td>1340.0000</td>\n",
       "      <td>1.567518</td>\n",
       "      <td>0.195940</td>\n",
       "      <td>167.500000</td>\n",
       "    </tr>\n",
       "    <tr>\n",
       "      <th>185</th>\n",
       "      <td>717</td>\n",
       "      <td>Mini Vanilla Bean Yellow Cupcakes with Creamy ...</td>\n",
       "      <td>90</td>\n",
       "      <td>0                                         (1, ...</td>\n",
       "      <td>5.0</td>\n",
       "      <td>52.0</td>\n",
       "      <td>4324.2500</td>\n",
       "      <td>9.064809</td>\n",
       "      <td>0.100720</td>\n",
       "      <td>48.047222</td>\n",
       "    </tr>\n",
       "    <tr>\n",
       "      <th>463</th>\n",
       "      <td>3109</td>\n",
       "      <td>Angel Food Cake with Espresso Mascarpone Cream</td>\n",
       "      <td>8</td>\n",
       "      <td>0                              (2.0, tablespoo...</td>\n",
       "      <td>5.0</td>\n",
       "      <td>58.0</td>\n",
       "      <td>864.8125</td>\n",
       "      <td>1.976146</td>\n",
       "      <td>0.247018</td>\n",
       "      <td>108.101562</td>\n",
       "    </tr>\n",
       "    <tr>\n",
       "      <th>484</th>\n",
       "      <td>3226</td>\n",
       "      <td>Lemon-Mint Cake with Lemon Syrup</td>\n",
       "      <td>8</td>\n",
       "      <td>0                      (1, 1,  Butter, for gre...</td>\n",
       "      <td>5.0</td>\n",
       "      <td>113.0</td>\n",
       "      <td>2943.5625</td>\n",
       "      <td>2.845871</td>\n",
       "      <td>0.355734</td>\n",
       "      <td>367.945312</td>\n",
       "    </tr>\n",
       "    <tr>\n",
       "      <th>500</th>\n",
       "      <td>3285</td>\n",
       "      <td>Salmon Cakes with Lemon-Caper Yogurt Sauce</td>\n",
       "      <td>6</td>\n",
       "      <td>0                                           (1...</td>\n",
       "      <td>5.0</td>\n",
       "      <td>130.0</td>\n",
       "      <td>231.9375</td>\n",
       "      <td>0.700469</td>\n",
       "      <td>0.116745</td>\n",
       "      <td>38.656250</td>\n",
       "    </tr>\n",
       "    <tr>\n",
       "      <th>525</th>\n",
       "      <td>3775</td>\n",
       "      <td>Lemony Sunshine Cupcakes</td>\n",
       "      <td>16</td>\n",
       "      <td>0     (1.3333333333333333, cups,    shortbread...</td>\n",
       "      <td>5.0</td>\n",
       "      <td>52.0</td>\n",
       "      <td>3398.5000</td>\n",
       "      <td>6.276744</td>\n",
       "      <td>0.392296</td>\n",
       "      <td>212.406250</td>\n",
       "    </tr>\n",
       "  </tbody>\n",
       "</table>\n",
       "</div>"
      ],
      "text/plain": [
       "     index                                       Recipe_title servings  \\\n",
       "53     135                              Lemon Angel Food Cake        8   \n",
       "185    717  Mini Vanilla Bean Yellow Cupcakes with Creamy ...       90   \n",
       "463   3109     Angel Food Cake with Espresso Mascarpone Cream        8   \n",
       "484   3226                   Lemon-Mint Cake with Lemon Syrup        8   \n",
       "500   3285         Salmon Cakes with Lemon-Caper Yogurt Sauce        6   \n",
       "525   3775                           Lemony Sunshine Cupcakes       16   \n",
       "\n",
       "                                           ingredients  stars  Num_of_reviews  \\\n",
       "53   0                   (2.0, cups, sugar)\n",
       "1    (1...    5.0            80.0   \n",
       "185  0                                         (1, ...    5.0            52.0   \n",
       "463  0                              (2.0, tablespoo...    5.0            58.0   \n",
       "484  0                      (1, 1,  Butter, for gre...    5.0           113.0   \n",
       "500  0                                           (1...    5.0           130.0   \n",
       "525  0     (1.3333333333333333, cups,    shortbread...    5.0            52.0   \n",
       "\n",
       "      Calories      Cost  Cost_per_serv  Cal_per_serv  \n",
       "53   1340.0000  1.567518       0.195940    167.500000  \n",
       "185  4324.2500  9.064809       0.100720     48.047222  \n",
       "463   864.8125  1.976146       0.247018    108.101562  \n",
       "484  2943.5625  2.845871       0.355734    367.945312  \n",
       "500   231.9375  0.700469       0.116745     38.656250  \n",
       "525  3398.5000  6.276744       0.392296    212.406250  "
      ]
     },
     "execution_count": 42,
     "metadata": {},
     "output_type": "execute_result"
    }
   ],
   "source": [
    "recipedf[(recipedf['stars']==5) & (recipedf['Num_of_reviews']>40) & (recipedf['Cost_per_serv']>0)&(recipedf['Cost_per_serv']<.5) & (recipedf['Cal_per_serv']<400)]"
   ]
  },
  {
   "cell_type": "code",
   "execution_count": null,
   "metadata": {},
   "outputs": [],
   "source": []
  },
  {
   "cell_type": "code",
   "execution_count": null,
   "metadata": {},
   "outputs": [],
   "source": []
  }
 ],
 "metadata": {
  "kernelspec": {
   "display_name": "Python 3",
   "language": "python",
   "name": "python3"
  },
  "language_info": {
   "codemirror_mode": {
    "name": "ipython",
    "version": 3
   },
   "file_extension": ".py",
   "mimetype": "text/x-python",
   "name": "python",
   "nbconvert_exporter": "python",
   "pygments_lexer": "ipython3",
   "version": "3.8.5"
  }
 },
 "nbformat": 4,
 "nbformat_minor": 4
}
